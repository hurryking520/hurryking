{
 "cells": [
  {
   "cell_type": "code",
   "execution_count": 6,
   "metadata": {},
   "outputs": [],
   "source": [
    "import pandas as pd\n",
    "import numpy as np"
   ]
  },
  {
   "cell_type": "code",
   "execution_count": 39,
   "metadata": {},
   "outputs": [],
   "source": [
    "###### 读取数据 \n",
    "stock_data = pd.read_csv('stock_data_normal_u.csv',header=None)\n",
    "stock_lable = pd.read_csv('stock_data_lable_normal.txt',header=None)"
   ]
  },
  {
   "cell_type": "code",
   "execution_count": 40,
   "metadata": {},
   "outputs": [
    {
     "name": "stdout",
     "output_type": "stream",
     "text": [
      "130116\n",
      "21686.0\n",
      "21686\n"
     ]
    }
   ],
   "source": [
    "print(stock_data.shape[0])\n",
    "print(stock_data.shape[0]/6)\n",
    "print(stock_lable.shape[0])"
   ]
  },
  {
   "cell_type": "code",
   "execution_count": 41,
   "metadata": {},
   "outputs": [
    {
     "name": "stdout",
     "output_type": "stream",
     "text": [
      "0    0.765563\n",
      "1    0.234437\n",
      "Name: 2, dtype: float64\n"
     ]
    }
   ],
   "source": [
    "print(stock_lable[2].value_counts(normalize=True))"
   ]
  },
  {
   "cell_type": "code",
   "execution_count": 35,
   "metadata": {},
   "outputs": [
    {
     "name": "stdout",
     "output_type": "stream",
     "text": [
      "             0        1        2        3        4        5        6   \\\n",
      "119988 -1.72013 -0.56642 -0.31088 -1.83969  1.38315  1.23070 -1.32244   \n",
      "119989 -0.17602 -0.62146 -0.68644 -0.11373 -0.29625  0.65030 -0.91912   \n",
      "119990 -0.29256 -0.55266 -1.23726 -0.00334 -0.22441 -1.09721 -0.27577   \n",
      "119991  0.26828  1.70385  0.52787  0.49839  1.04281  0.57758  0.45808   \n",
      "119992  1.02576  0.75446  1.61699  1.11050 -0.80056 -0.13372  1.04044   \n",
      "119993  0.89466 -0.71777  0.08972  0.34787 -1.10473 -1.22765  1.01880   \n",
      "119994 -1.47396 -1.25874 -1.24252 -1.25637  1.05040 -0.39198 -1.29078   \n",
      "\n",
      "             7        8        9        10  \n",
      "119988 -0.31348 -1.32868  1.45949 -1.22658  \n",
      "119989 -1.21795 -0.81663  0.75968 -0.89670  \n",
      "119990 -0.91414 -0.33746  0.06736 -0.35475  \n",
      "119991  0.23617  0.31553 -0.23202  0.28930  \n",
      "119992  0.89713  1.02959 -0.77840  0.88622  \n",
      "119993  1.31227  1.13764 -1.27612  1.30250  \n",
      "119994 -1.44018  1.33813  1.19544  1.10517  \n"
     ]
    }
   ],
   "source": [
    "print(stock_data.loc[119988:119988+6])"
   ]
  },
  {
   "cell_type": "code",
   "execution_count": null,
   "metadata": {},
   "outputs": [],
   "source": []
  }
 ],
 "metadata": {
  "kernelspec": {
   "display_name": "Python 3",
   "language": "python",
   "name": "python3"
  },
  "language_info": {
   "codemirror_mode": {
    "name": "ipython",
    "version": 3
   },
   "file_extension": ".py",
   "mimetype": "text/x-python",
   "name": "python",
   "nbconvert_exporter": "python",
   "pygments_lexer": "ipython3",
   "version": "3.6.8"
  }
 },
 "nbformat": 4,
 "nbformat_minor": 2
}
