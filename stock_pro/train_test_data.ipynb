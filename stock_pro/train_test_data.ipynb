{
 "cells": [
  {
   "cell_type": "code",
   "execution_count": 14,
   "metadata": {},
   "outputs": [],
   "source": [
    "import pandas as pd"
   ]
  },
  {
   "cell_type": "code",
   "execution_count": 15,
   "metadata": {},
   "outputs": [],
   "source": [
    "###### 读取数据 \n",
    "stock_data = pd.read_csv('stock_data_normal.csv',header=None)\n",
    "stock_lable = pd.read_csv('stock_data_lable_normal.txt',header=None)"
   ]
  },
  {
   "cell_type": "code",
   "execution_count": 16,
   "metadata": {},
   "outputs": [
    {
     "name": "stdout",
     "output_type": "stream",
     "text": [
      "2107\n",
      "12642\n",
      "2107.0\n"
     ]
    }
   ],
   "source": [
    "print(stock_lable.shape[0])\n",
    "print(stock_data.shape[0])\n",
    "print((stock_data.shape[0])/6)\n",
    "#print(stock_data.head(10))"
   ]
  },
  {
   "cell_type": "code",
   "execution_count": 9,
   "metadata": {},
   "outputs": [],
   "source": [
    "code_gb = stock_data.groupby(7)"
   ]
  },
  {
   "cell_type": "code",
   "execution_count": 10,
   "metadata": {},
   "outputs": [
    {
     "name": "stdout",
     "output_type": "stream",
     "text": [
      "-----done------------\n"
     ]
    }
   ],
   "source": [
    "i=0\n",
    "for code,code_ in code_gb:\n",
    "    data_code = code_gb.get_group(code)\n",
    "    \n",
    "print('-----done------------')"
   ]
  },
  {
   "cell_type": "code",
   "execution_count": null,
   "metadata": {},
   "outputs": [],
   "source": []
  }
 ],
 "metadata": {
  "kernelspec": {
   "display_name": "Python 3",
   "language": "python",
   "name": "python3"
  },
  "language_info": {
   "codemirror_mode": {
    "name": "ipython",
    "version": 3
   },
   "file_extension": ".py",
   "mimetype": "text/x-python",
   "name": "python",
   "nbconvert_exporter": "python",
   "pygments_lexer": "ipython3",
   "version": "3.6.8"
  }
 },
 "nbformat": 4,
 "nbformat_minor": 2
}
