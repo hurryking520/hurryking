{
 "cells": [
  {
   "cell_type": "code",
   "execution_count": 1,
   "metadata": {},
   "outputs": [],
   "source": [
    "################### 买入后 上涨 大于30 的训练  \n",
    "import numpy as np\n",
    "import matplotlib.pyplot  as plt\n",
    "import pandas as pd\n",
    "import random\n",
    "from sklearn import svm"
   ]
  },
  {
   "cell_type": "code",
   "execution_count": 2,
   "metadata": {},
   "outputs": [],
   "source": [
    "###### 读取数据 ########\n",
    "stock_data_org = pd.read_csv('stock_data_normal_u_30.csv',header=None)\n",
    "stock_lable_org = pd.read_csv('stock_data_lable_normal_30.txt',header=None)"
   ]
  },
  {
   "cell_type": "code",
   "execution_count": 3,
   "metadata": {},
   "outputs": [
    {
     "name": "stdout",
     "output_type": "stream",
     "text": [
      "128094\n",
      "21349.0\n",
      "21349\n"
     ]
    }
   ],
   "source": [
    "print(stock_data_org.shape[0])\n",
    "print(stock_data_org.shape[0] / 6)\n",
    "print(stock_lable_org.shape[0])"
   ]
  },
  {
   "cell_type": "code",
   "execution_count": 4,
   "metadata": {},
   "outputs": [],
   "source": [
    "################# 抽取出成功的标签，使成功与失败的比例是1:1.2 #####################\n",
    "######### 所有的 股票数据，转换成（m,66 的形势）\n",
    "all_x_data = stock_data_org.values\n",
    "all_x_data = all_x_data.reshape(-1,66)\n",
    "#all_x_data = np.insert(all_x_data,0,1,axis=1)\n",
    "\n",
    "################ 为 lable 加上 index\n",
    "stock_lable_org['index'] = pd.DataFrame(np.arange(stock_lable_org.shape[0] -1))\n",
    "\n",
    "############### 取出 所有 多空中 为 1 的数据 #####################\n",
    "stock_lable_1 = stock_lable_org[stock_lable_org[2]==1]\n",
    "############### 取出 所有 多空中 为 0 的数据 #####################\n",
    "stock_lable_0 = stock_lable_org[stock_lable_org[2]==0] ##########\n",
    "############### 对 多空为0 的数据进行抽样，数量为 多空为1 的1.2倍\n",
    "stock_lable_0_sample = stock_lable_0.sample(n=int(stock_lable_1.shape[0]*1.2),replace=False)\n",
    "############### 组合 0 的抽样数据与 1 的lable【所有数据】，形成 神经网络 的【训练集】与【测试集】\n",
    "lable_nn_data = pd.concat([stock_lable_1,stock_lable_0_sample])\n",
    "lable_nn_data = lable_nn_data.sort_values(by = 'index',ascending=True)\n",
    "cut_idx = int(lable_nn_data.shape[0] * 0.7)\n",
    "lable_nn_train = lable_nn_data.iloc[:cut_idx]\n",
    "lable_nn_test = lable_nn_data.iloc[cut_idx:]\n",
    "#print(lable_nn_test)\n",
    "############### 根据 index 取出 所有对应的 股票数据 #####################\n",
    "train_data_index = lable_nn_train['index'].values\n",
    "#print(train_data_index)\n",
    "test_data_index = lable_nn_test['index'].values\n",
    "#print(test_data_index)\n",
    "train_data_index = train_data_index.astype(int)\n",
    "test_data_index = test_data_index.astype(int)\n",
    "#print(test_data_index)\n",
    "#print(test_data_index.tolist())\n",
    "train_data = all_x_data[train_data_index.tolist()]\n",
    "test_data = all_x_data[test_data_index.tolist()]\n",
    "#train_data = np.insert(train_data,0,1,axis=1)\n",
    "#test_data = np.insert(test_data,0,1,axis=1)\n",
    "y_train = lable_nn_train[2].values.reshape(-1,1)\n",
    "y_test = lable_nn_test[2].values.reshape(-1,1)"
   ]
  },
  {
   "cell_type": "code",
   "execution_count": 5,
   "metadata": {},
   "outputs": [
    {
     "name": "stdout",
     "output_type": "stream",
     "text": [
      "2107\n",
      "2107\n",
      "904\n",
      "904\n"
     ]
    }
   ],
   "source": [
    "print(train_data.shape[0])\n",
    "print(y_train.shape[0])\n",
    "print(test_data.shape[0])\n",
    "print(y_test.shape[0])"
   ]
  },
  {
   "cell_type": "code",
   "execution_count": 29,
   "metadata": {},
   "outputs": [
    {
     "data": {
      "text/plain": [
       "SVC(C=0.55, break_ties=False, cache_size=200, class_weight=None, coef0=0.0,\n",
       "    decision_function_shape='ovr', degree=3, gamma=0.025, kernel='rbf',\n",
       "    max_iter=-1, probability=False, random_state=None, shrinking=True,\n",
       "    tol=0.001, verbose=False)"
      ]
     },
     "execution_count": 29,
     "metadata": {},
     "output_type": "execute_result"
    }
   ],
   "source": [
    "svc1 = svm.SVC(C=0.55,kernel='rbf',gamma=0.025)\n",
    "svc1.fit(train_data,y_train.flatten())"
   ]
  },
  {
   "cell_type": "code",
   "execution_count": 30,
   "metadata": {},
   "outputs": [
    {
     "name": "stdout",
     "output_type": "stream",
     "text": [
      "0.7831039392501187\n",
      "(2107,) [0 1 0 1 0 0 1 0 1 0 1 1 1 0 0 0 0 1 0 1 1 0 0 0 1 0 1 1 1 1 0 0 1 1 1 0 0\n",
      " 0 0 0 1 0 1 0 1 1 1 0 0 1]\n"
     ]
    }
   ],
   "source": [
    "print(svc1.score(train_data,y_train.flatten()))\n",
    "a = svc1.predict(train_data)\n",
    "print(a.shape,a[0:50])"
   ]
  },
  {
   "cell_type": "code",
   "execution_count": 31,
   "metadata": {
    "scrolled": true
   },
   "outputs": [
    {
     "name": "stdout",
     "output_type": "stream",
     "text": [
      "0.7256637168141593\n",
      "(904,) [0 1 0 0 0 1 0 0 0 0 1 0 0 0 1 1 0 0 1 0 0 0 1 0 0 1 1 0 0 0 1 0 1 1 1 0 1\n",
      " 0 0 1 0 1 1 0 1 1 1 1 0 0]\n"
     ]
    }
   ],
   "source": [
    "print(svc1.score(test_data,y_test.flatten()))\n",
    "b = svc1.predict(test_data)\n",
    "print(b.shape,b[0:50])"
   ]
  },
  {
   "cell_type": "code",
   "execution_count": null,
   "metadata": {},
   "outputs": [],
   "source": []
  }
 ],
 "metadata": {
  "kernelspec": {
   "display_name": "Python 3",
   "language": "python",
   "name": "python3"
  },
  "language_info": {
   "codemirror_mode": {
    "name": "ipython",
    "version": 3
   },
   "file_extension": ".py",
   "mimetype": "text/x-python",
   "name": "python",
   "nbconvert_exporter": "python",
   "pygments_lexer": "ipython3",
   "version": "3.6.8"
  }
 },
 "nbformat": 4,
 "nbformat_minor": 2
}
